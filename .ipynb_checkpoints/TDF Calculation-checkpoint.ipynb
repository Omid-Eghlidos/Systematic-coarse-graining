{
 "cells": [
  {
   "cell_type": "code",
   "execution_count": 57,
   "metadata": {},
   "outputs": [
    {
     "name": "stdout",
     "output_type": "stream",
     "text": [
      "Trans =  0.5239233032\n",
      "Gauche =  0.476076699778\n"
     ]
    },
    {
     "data": {
      "text/plain": [
       "(0.0, 0.02)"
      ]
     },
     "execution_count": 57,
     "metadata": {},
     "output_type": "execute_result"
    },
    {
     "data": {
      "image/png": "[encoded data removed]",
      "text/plain": [
       "<matplotlib.figure.Figure at 0x7f7e58162b00>"
      ]
     },
     "metadata": {},
     "output_type": "display_data"
    }
   ],
   "source": [
    "from glob import glob\n",
    "import numpy\n",
    "import math\n",
    "import matplotlib \n",
    "import scipy\n",
    "\n",
    "data = []\n",
    "\n",
    "for f in glob('/home/oeghlido/development/TDF/tdf*.txt'):\n",
    "    data.append(numpy.genfromtxt(f))\n",
    "    \n",
    "tdf = numpy.mean(data, axis=0)\n",
    "phi = tdf[:,0]\n",
    "vtdf = tdf[:,1]\n",
    "\n",
    "mask1 = abs(phi) > 120\n",
    "area1 = vtdf[mask].sum()*(phi[1] - phi[0])\n",
    "\n",
    "mask2 = abs(phi) < 120\n",
    "area2 = vtdf[mask2].sum()*(phi[1] - phi[0])\n",
    "\n",
    "#print(mask)\n",
    "print('Trans = ',area1)\n",
    "print('Gauche = ',area2)\n",
    "\n",
    "\n",
    "T60x, T60y = [], []\n",
    "T180x, T180y = [], []\n",
    "i = 0\n",
    "for i in range(len(tdf)):\n",
    "    if(abs(tdf[i,0]))< 120.0:\n",
    "        T60x.append(tdf[i,0]) \n",
    "        T60y.append(tdf[i,1])\n",
    "    elif(abs(tdf[i,0])>120 and abs(tdf[i,0]<180)):\n",
    "        T180x.append(tdf[i,0])\n",
    "        T180y.append(tdf[i,1])\n",
    "        \n",
    "def integral(x, y):\n",
    "    area = 0\n",
    "    for i in range(len(x)-1):\n",
    "        area = area + (x[i+1]-x[i])*(y[i+1]+y[i])/2\n",
    "    return area\n",
    "\n",
    "A60 = integral(T60x, T60y)\n",
    "A180 = integral(T180x,T180y)\n",
    "\n",
    "#print(A60)\n",
    "#print(A180)\n",
    "\n",
    "pyplot.figure(figsize=(4,3))\n",
    "pyplot.plot(tdf[:,0], tdf[:,1])\n",
    "pyplot.xlim(-180, 180)\n",
    "pyplot.ylim(0.0, 0.02)    \n"
   ]
  },
  {
   "cell_type": "code",
   "execution_count": null,
   "metadata": {},
   "outputs": [],
   "source": []
  }
 ],
 "metadata": {
  "kernelspec": {
   "display_name": "Python 3",
   "language": "python",
   "name": "python3"
  },
  "language_info": {
   "codemirror_mode": {
    "name": "ipython",
    "version": 3
   },
   "file_extension": ".py",
   "mimetype": "text/x-python",
   "name": "python",
   "nbconvert_exporter": "python",
   "pygments_lexer": "ipython3",
   "version": "3.6.9"
  },
  "widgets": {
   "application/vnd.jupyter.widget-state+json": {
    "state": {},
    "version_major": 1,
    "version_minor": 0
   }
  }
 },
 "nbformat": 4,
 "nbformat_minor": 2
}
