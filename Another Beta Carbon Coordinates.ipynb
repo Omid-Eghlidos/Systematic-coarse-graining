{
 "cells": [
  {
   "cell_type": "code",
   "execution_count": 6,
   "metadata": {},
   "outputs": [
    {
     "data": {
      "image/png": "[encoded data removed]",
      "text/plain": [
       "<matplotlib.figure.Figure at 0x7f480fd07ac8>"
      ]
     },
     "metadata": {},
     "output_type": "display_data"
    }
   ],
   "source": [
    "import numpy\n",
    "import math\n",
    "from matplotlib import pyplot\n",
    "\n",
    "''' Isotactic Polypropylene, beta-phase: a study on frustration\n",
    "    from D.L. Dorset et al. 1998'''\n",
    "\n",
    "Carbons = numpy.array([[0.2311, 0.1785, 0.5951],\n",
    "                       [0.0823, 0.0772, 0.6740],\n",
    "                       [0.0696, 0.0692, 0.9104],\n",
    "                       [0.5426, 0.6813, 0.4169],\n",
    "                       [0.4199, 0.6977, 0.4958],\n",
    "                       [0.4169, 0.6991, 0.7328],\n",
    "                       [0.8910, 0.4606, 0.6334],\n",
    "                       [0.7410, 0.4004, 0.7168],\n",
    "                       [0.7444, 0.4040, 0.9538]])\n",
    "\n",
    "\n",
    "\n",
    "       \n",
    "fig1 = pyplot.figure(figsize = (10,5))      \n",
    "aCC = pyplot.plot(Carbons[:,0], Carbons[:,1],'.', ms=30, alpha=0.5, label='Carbons')\n",
    "          "
   ]
  }
 ],
 "metadata": {
  "kernelspec": {
   "display_name": "Python 3",
   "language": "python",
   "name": "python3"
  },
  "language_info": {
   "codemirror_mode": {
    "name": "ipython",
    "version": 3
   },
   "file_extension": ".py",
   "mimetype": "text/x-python",
   "name": "python",
   "nbconvert_exporter": "python",
   "pygments_lexer": "ipython3",
   "version": "3.6.9"
  },
  "widgets": {
   "application/vnd.jupyter.widget-state+json": {
    "state": {},
    "version_major": 1,
    "version_minor": 0
   }
  }
 },
 "nbformat": 4,
 "nbformat_minor": 2
}
